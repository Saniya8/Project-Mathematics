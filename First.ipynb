{
 "cells": [
  {
   "cell_type": "code",
   "execution_count": 1,
   "metadata": {
    "collapsed": false
   },
   "outputs": [],
   "source": [
    "import json\n",
    "import pymystem3\n",
    "s = \"У Васи было пять яблок, а у Коли пять груш.\""
   ]
  },
  {
   "cell_type": "code",
   "execution_count": 2,
   "metadata": {
    "collapsed": false
   },
   "outputs": [],
   "source": [
    "m = pymystem3.Mystem()"
   ]
  },
  {
   "cell_type": "code",
   "execution_count": 3,
   "metadata": {
    "collapsed": false
   },
   "outputs": [],
   "source": [
    "res = m.analyze(s)"
   ]
  },
  {
   "cell_type": "code",
   "execution_count": 4,
   "metadata": {
    "collapsed": false
   },
   "outputs": [
    {
     "data": {
      "text/plain": [
       "[{'analysis': [{'gr': 'PR=', 'lex': 'у'}], 'text': 'У'},\n",
       " {'text': ' '},\n",
       " {'analysis': [{'gr': 'S,имя,муж,од=(род,ед|им,мн)', 'lex': 'вася'}],\n",
       "  'text': 'Васи'},\n",
       " {'text': ' '},\n",
       " {'analysis': [{'gr': 'V,нп=прош,ед,изъяв,сред,несов', 'lex': 'быть'}],\n",
       "  'text': 'было'},\n",
       " {'text': ' '},\n",
       " {'analysis': [{'gr': 'NUM=(вин|им)', 'lex': 'пять'}], 'text': 'пять'},\n",
       " {'text': ' '},\n",
       " {'analysis': [{'gr': 'S,сред,неод=род,мн', 'lex': 'яблоко'}],\n",
       "  'text': 'яблок'},\n",
       " {'text': ', '},\n",
       " {'analysis': [{'gr': 'CONJ=', 'lex': 'а'}], 'text': 'а'},\n",
       " {'text': ' '},\n",
       " {'analysis': [{'gr': 'PR=', 'lex': 'у'}], 'text': 'у'},\n",
       " {'text': ' '},\n",
       " {'analysis': [{'gr': 'S,имя,муж,од=(род,ед|им,мн)', 'lex': 'коля'}],\n",
       "  'text': 'Коли'},\n",
       " {'text': ' '},\n",
       " {'analysis': [{'gr': 'NUM=(вин|им)', 'lex': 'пять'}], 'text': 'пять'},\n",
       " {'text': ' '},\n",
       " {'analysis': [{'gr': 'S,жен,неод=род,мн', 'lex': 'груша'}], 'text': 'груш'},\n",
       " {'text': '.'},\n",
       " {'text': '\\n'}]"
      ]
     },
     "execution_count": 4,
     "metadata": {},
     "output_type": "execute_result"
    }
   ],
   "source": [
    "res"
   ]
  },
  {
   "cell_type": "code",
   "execution_count": null,
   "metadata": {
    "collapsed": true
   },
   "outputs": [],
   "source": []
  },
  {
   "cell_type": "code",
   "execution_count": 68,
   "metadata": {
    "collapsed": false
   },
   "outputs": [
    {
     "data": {
      "text/plain": [
       "'яблоко'"
      ]
     },
     "execution_count": 68,
     "metadata": {},
     "output_type": "execute_result"
    }
   ],
   "source": [
    "res[8]['analysis'][0]['lex']"
   ]
  },
  {
   "cell_type": "code",
   "execution_count": 69,
   "metadata": {
    "collapsed": true
   },
   "outputs": [],
   "source": [
    "import pymorphy2"
   ]
  },
  {
   "cell_type": "code",
   "execution_count": 70,
   "metadata": {
    "collapsed": true
   },
   "outputs": [],
   "source": [
    "morph = pymorphy2.MorphAnalyzer()"
   ]
  },
  {
   "cell_type": "code",
   "execution_count": 71,
   "metadata": {
    "collapsed": false
   },
   "outputs": [
    {
     "data": {
      "text/plain": [
       "Parse(word='яблока', tag=OpencorporaTag('NOUN,inan,neut sing,gent'), normal_form='яблоко', score=1.0, methods_stack=((<DictionaryAnalyzer>, 'яблока', 556, 1),))"
      ]
     },
     "execution_count": 71,
     "metadata": {},
     "output_type": "execute_result"
    }
   ],
   "source": [
    "morph.parse(\"яблока\")[0]"
   ]
  },
  {
   "cell_type": "code",
   "execution_count": 72,
   "metadata": {
    "collapsed": false
   },
   "outputs": [],
   "source": [
    "p = morph.parse(morph.parse(\"яблока\")[0].normal_form)[0]"
   ]
  },
  {
   "cell_type": "code",
   "execution_count": 73,
   "metadata": {
    "collapsed": false
   },
   "outputs": [
    {
     "data": {
      "text/plain": [
       "'яблоко'"
      ]
     },
     "execution_count": 73,
     "metadata": {},
     "output_type": "execute_result"
    }
   ],
   "source": [
    "p.make_agree_with_number(1).word"
   ]
  },
  {
   "cell_type": "code",
   "execution_count": 74,
   "metadata": {
    "collapsed": true
   },
   "outputs": [],
   "source": [
    "s = \"У Коли нет {x} яблок\""
   ]
  },
  {
   "cell_type": "code",
   "execution_count": 75,
   "metadata": {
    "collapsed": false
   },
   "outputs": [
    {
     "data": {
      "text/plain": [
       "[Parse(word='яблок', tag=OpencorporaTag('NOUN,inan,neut plur,gent'), normal_form='яблоко', score=1.0, methods_stack=((<DictionaryAnalyzer>, 'яблок', 556, 7),))]"
      ]
     },
     "execution_count": 75,
     "metadata": {},
     "output_type": "execute_result"
    }
   ],
   "source": [
    "morph.parse(\"яблок\")"
   ]
  },
  {
   "cell_type": "code",
   "execution_count": 76,
   "metadata": {
    "collapsed": false
   },
   "outputs": [
    {
     "data": {
      "text/plain": [
       "'яблоко'"
      ]
     },
     "execution_count": 76,
     "metadata": {},
     "output_type": "execute_result"
    }
   ],
   "source": [
    "p = morph.parse(morph.parse(\"яблок\")[0].normal_form)[0]\n",
    "p.make_agree_with_number(1).word"
   ]
  },
  {
   "cell_type": "code",
   "execution_count": 77,
   "metadata": {
    "collapsed": false
   },
   "outputs": [
    {
     "data": {
      "text/plain": [
       "'У Коли нет 2 яблока, а у Пети нет 1 яблоко'"
      ]
     },
     "execution_count": 77,
     "metadata": {},
     "output_type": "execute_result"
    }
   ],
   "source": [
    "\"У Коли нет 2 яблока, а у Пети нет 1 яблоко\""
   ]
  },
  {
   "cell_type": "code",
   "execution_count": 79,
   "metadata": {
    "collapsed": false
   },
   "outputs": [
    {
     "data": {
      "text/plain": [
       "'яблок'"
      ]
     },
     "execution_count": 79,
     "metadata": {},
     "output_type": "execute_result"
    }
   ],
   "source": [
    "morph.parse(\"яблок\")[0].make_agree_with_number(2).word"
   ]
  },
  {
   "cell_type": "code",
   "execution_count": 35,
   "metadata": {
    "collapsed": true
   },
   "outputs": [],
   "source": [
    "s = \"По пятницам каждые пять минут ко мне приходят новые\""
   ]
  },
  {
   "cell_type": "code",
   "execution_count": 36,
   "metadata": {
    "collapsed": true
   },
   "outputs": [],
   "source": [
    "res = m.analyze(s)"
   ]
  },
  {
   "cell_type": "code",
   "execution_count": 37,
   "metadata": {
    "collapsed": false
   },
   "outputs": [
    {
     "data": {
      "text/plain": [
       "[{'analysis': [{'gr': 'PR=', 'lex': 'по'}], 'text': 'По'},\n",
       " {'text': ' '},\n",
       " {'analysis': [{'gr': 'S,жен,неод=дат,мн', 'lex': 'пятница'}],\n",
       "  'text': 'пятницам'},\n",
       " {'text': ' '},\n",
       " {'analysis': [{'gr': 'APRO=(им,мн|вин,мн,неод)', 'lex': 'каждый'}],\n",
       "  'text': 'каждые'},\n",
       " {'text': ' '},\n",
       " {'analysis': [{'gr': 'NUM=(вин|им)', 'lex': 'пять'}], 'text': 'пять'},\n",
       " {'text': ' '},\n",
       " {'analysis': [{'gr': 'S,жен,неод=род,мн', 'lex': 'минута'}], 'text': 'минут'},\n",
       " {'text': ' '},\n",
       " {'analysis': [{'gr': 'PR=', 'lex': 'ко'}], 'text': 'ко'},\n",
       " {'text': ' '},\n",
       " {'analysis': [{'gr': 'SPRO,ед,1-л=(пр|дат)', 'lex': 'я'}], 'text': 'мне'},\n",
       " {'text': ' '},\n",
       " {'analysis': [{'gr': 'V,нп=непрош,мн,изъяв,3-л,несов', 'lex': 'приходить'}],\n",
       "  'text': 'приходят'},\n",
       " {'text': ' '},\n",
       " {'analysis': [{'gr': 'A=(вин,мн,полн,неод|им,мн,полн)', 'lex': 'новый'}],\n",
       "  'text': 'новые'},\n",
       " {'text': '\\n'}]"
      ]
     },
     "execution_count": 37,
     "metadata": {},
     "output_type": "execute_result"
    }
   ],
   "source": [
    "res"
   ]
  },
  {
   "cell_type": "code",
   "execution_count": 38,
   "metadata": {
    "collapsed": true
   },
   "outputs": [],
   "source": [
    "pattern = [ '(.*?)PR(.*?)',  'NUM', 'S']"
   ]
  },
  {
   "cell_type": "code",
   "execution_count": 39,
   "metadata": {
    "collapsed": false
   },
   "outputs": [
    {
     "data": {
      "text/plain": [
       "{'analysis': [{'gr': 'APRO=(им,мн|вин,мн,неод)', 'lex': 'каждый'}],\n",
       " 'text': 'каждые'}"
      ]
     },
     "execution_count": 39,
     "metadata": {},
     "output_type": "execute_result"
    }
   ],
   "source": [
    "res[4]"
   ]
  },
  {
   "cell_type": "code",
   "execution_count": 40,
   "metadata": {
    "collapsed": false
   },
   "outputs": [
    {
     "data": {
      "text/plain": [
       "[(1, 'a'), (2, 'b'), (3, 'c'), (4, 'd')]"
      ]
     },
     "execution_count": 40,
     "metadata": {},
     "output_type": "execute_result"
    }
   ],
   "source": [
    "list(zip([1, 2, 3, 4], ['a', 'b', 'c', 'd']))"
   ]
  },
  {
   "cell_type": "code",
   "execution_count": 41,
   "metadata": {
    "collapsed": false
   },
   "outputs": [
    {
     "name": "stdout",
     "output_type": "stream",
     "text": [
      "a = 1 , b = 10\n",
      "a = 2 , b = 20\n",
      "a = 3 , b = 30\n",
      "a = 4 , b = 40\n"
     ]
    }
   ],
   "source": [
    "for a, b in zip([1, 2, 3, 4], [10, 20, 30, 40]):\n",
    "    print(\"a =\", a, \", b =\", b)"
   ]
  },
  {
   "cell_type": "code",
   "execution_count": 42,
   "metadata": {
    "collapsed": true
   },
   "outputs": [],
   "source": [
    "import re"
   ]
  },
  {
   "cell_type": "code",
   "execution_count": 46,
   "metadata": {
    "collapsed": true
   },
   "outputs": [],
   "source": [
    "def match(pattern, res, start=0):\n",
    "    if start + len(pattern) > len(res):\n",
    "        return None\n",
    "    l = len(pattern)\n",
    "    for p, r in zip(pattern, res[start: start + l]):\n",
    "        if not re.match(p, r['analysis'][0]['gr']):\n",
    "            return None\n",
    "    return res[start: start + l]"
   ]
  },
  {
   "cell_type": "code",
   "execution_count": 47,
   "metadata": {
    "collapsed": true
   },
   "outputs": [],
   "source": [
    "newres = [r for r in res if 'analysis' in r]"
   ]
  },
  {
   "cell_type": "code",
   "execution_count": 48,
   "metadata": {
    "collapsed": false
   },
   "outputs": [
    {
     "name": "stdout",
     "output_type": "stream",
     "text": [
      "0 None\n",
      "1 None\n",
      "2 [{'analysis': [{'lex': 'каждый', 'gr': 'APRO=(им,мн|вин,мн,неод)'}], 'text': 'каждые'}, {'analysis': [{'lex': 'пять', 'gr': 'NUM=(вин|им)'}], 'text': 'пять'}, {'analysis': [{'lex': 'минута', 'gr': 'S,жен,неод=род,мн'}], 'text': 'минут'}]\n",
      "3 None\n",
      "4 None\n",
      "5 None\n",
      "6 None\n",
      "7 None\n",
      "8 None\n"
     ]
    }
   ],
   "source": [
    "for pattern in patterns:\n",
    "    for i in range(len(newres)):\n",
    "        print(i, match(pattern, newres, start=i))"
   ]
  },
  {
   "cell_type": "code",
   "execution_count": 49,
   "metadata": {
    "collapsed": true
   },
   "outputs": [],
   "source": [
    "# 12345 -> \"двенадцать тысяч триста сорок пять\""
   ]
  },
  {
   "cell_type": "code",
   "execution_count": null,
   "metadata": {
    "collapsed": true
   },
   "outputs": [],
   "source": []
  }
 ],
 "metadata": {
  "kernelspec": {
   "display_name": "Python 3",
   "language": "python",
   "name": "python3"
  },
  "language_info": {
   "codemirror_mode": {
    "name": "ipython",
    "version": 3
   },
   "file_extension": ".py",
   "mimetype": "text/x-python",
   "name": "python",
   "nbconvert_exporter": "python",
   "pygments_lexer": "ipython3",
   "version": "3.5.0"
  }
 },
 "nbformat": 4,
 "nbformat_minor": 0
}
