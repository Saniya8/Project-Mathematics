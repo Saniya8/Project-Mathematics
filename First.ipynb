{
 "cells": [
  {
   "cell_type": "code",
   "execution_count": 61,
   "metadata": {
    "collapsed": false
   },
   "outputs": [],
   "source": [
    "import json\n",
    "import pymystem3\n",
    "s = \"У Васи было пять яблок, а у Коли пять груш.\""
   ]
  },
  {
   "cell_type": "code",
   "execution_count": 62,
   "metadata": {
    "collapsed": false
   },
   "outputs": [],
   "source": [
    "m = pymystem3.Mystem()"
   ]
  },
  {
   "cell_type": "code",
   "execution_count": 63,
   "metadata": {
    "collapsed": false
   },
   "outputs": [],
   "source": [
    "res = m.analyze(s)"
   ]
  },
  {
   "cell_type": "code",
   "execution_count": 64,
   "metadata": {
    "collapsed": false
   },
   "outputs": [
    {
     "data": {
      "text/plain": [
       "[{'analysis': [{'gr': 'PR=', 'lex': 'у'}], 'text': 'У'},\n",
       " {'text': ' '},\n",
       " {'analysis': [{'gr': 'S,имя,муж,од=(род,ед|им,мн)', 'lex': 'вася'}],\n",
       "  'text': 'Васи'},\n",
       " {'text': ' '},\n",
       " {'analysis': [{'gr': 'V,нп=прош,ед,изъяв,сред,несов', 'lex': 'быть'}],\n",
       "  'text': 'было'},\n",
       " {'text': ' '},\n",
       " {'analysis': [{'gr': 'NUM=(вин|им)', 'lex': 'пять'}], 'text': 'пять'},\n",
       " {'text': ' '},\n",
       " {'analysis': [{'gr': 'S,сред,неод=род,мн', 'lex': 'яблоко'}],\n",
       "  'text': 'яблок'},\n",
       " {'text': ', '},\n",
       " {'analysis': [{'gr': 'CONJ=', 'lex': 'а'}], 'text': 'а'},\n",
       " {'text': ' '},\n",
       " {'analysis': [{'gr': 'PR=', 'lex': 'у'}], 'text': 'у'},\n",
       " {'text': ' '},\n",
       " {'analysis': [{'gr': 'S,имя,муж,од=(род,ед|им,мн)', 'lex': 'коля'}],\n",
       "  'text': 'Коли'},\n",
       " {'text': ' '},\n",
       " {'analysis': [{'gr': 'NUM=(вин|им)', 'lex': 'пять'}], 'text': 'пять'},\n",
       " {'text': ' '},\n",
       " {'analysis': [{'gr': 'S,жен,неод=род,мн', 'lex': 'груша'}], 'text': 'груш'},\n",
       " {'text': '.'},\n",
       " {'text': '\\n'}]"
      ]
     },
     "execution_count": 64,
     "metadata": {},
     "output_type": "execute_result"
    }
   ],
   "source": [
    "res"
   ]
  },
  {
   "cell_type": "code",
   "execution_count": 68,
   "metadata": {
    "collapsed": false
   },
   "outputs": [
    {
     "data": {
      "text/plain": [
       "'яблоко'"
      ]
     },
     "execution_count": 68,
     "metadata": {},
     "output_type": "execute_result"
    }
   ],
   "source": [
    "res[8]['analysis'][0]['lex']"
   ]
  },
  {
   "cell_type": "code",
   "execution_count": 69,
   "metadata": {
    "collapsed": true
   },
   "outputs": [],
   "source": [
    "import pymorphy2"
   ]
  },
  {
   "cell_type": "code",
   "execution_count": 70,
   "metadata": {
    "collapsed": true
   },
   "outputs": [],
   "source": [
    "morph = pymorphy2.MorphAnalyzer()"
   ]
  },
  {
   "cell_type": "code",
   "execution_count": 71,
   "metadata": {
    "collapsed": false
   },
   "outputs": [
    {
     "data": {
      "text/plain": [
       "Parse(word='яблока', tag=OpencorporaTag('NOUN,inan,neut sing,gent'), normal_form='яблоко', score=1.0, methods_stack=((<DictionaryAnalyzer>, 'яблока', 556, 1),))"
      ]
     },
     "execution_count": 71,
     "metadata": {},
     "output_type": "execute_result"
    }
   ],
   "source": [
    "morph.parse(\"яблока\")[0]"
   ]
  },
  {
   "cell_type": "code",
   "execution_count": 72,
   "metadata": {
    "collapsed": false
   },
   "outputs": [],
   "source": [
    "p = morph.parse(morph.parse(\"яблока\")[0].normal_form)[0]"
   ]
  },
  {
   "cell_type": "code",
   "execution_count": 73,
   "metadata": {
    "collapsed": false
   },
   "outputs": [
    {
     "data": {
      "text/plain": [
       "'яблоко'"
      ]
     },
     "execution_count": 73,
     "metadata": {},
     "output_type": "execute_result"
    }
   ],
   "source": [
    "p.make_agree_with_number(1).word"
   ]
  },
  {
   "cell_type": "code",
   "execution_count": 74,
   "metadata": {
    "collapsed": true
   },
   "outputs": [],
   "source": [
    "s = \"У Коли нет {x} яблок\""
   ]
  },
  {
   "cell_type": "code",
   "execution_count": 75,
   "metadata": {
    "collapsed": false
   },
   "outputs": [
    {
     "data": {
      "text/plain": [
       "[Parse(word='яблок', tag=OpencorporaTag('NOUN,inan,neut plur,gent'), normal_form='яблоко', score=1.0, methods_stack=((<DictionaryAnalyzer>, 'яблок', 556, 7),))]"
      ]
     },
     "execution_count": 75,
     "metadata": {},
     "output_type": "execute_result"
    }
   ],
   "source": [
    "morph.parse(\"яблок\")"
   ]
  },
  {
   "cell_type": "code",
   "execution_count": 76,
   "metadata": {
    "collapsed": false
   },
   "outputs": [
    {
     "data": {
      "text/plain": [
       "'яблоко'"
      ]
     },
     "execution_count": 76,
     "metadata": {},
     "output_type": "execute_result"
    }
   ],
   "source": [
    "p = morph.parse(morph.parse(\"яблок\")[0].normal_form)[0]\n",
    "p.make_agree_with_number(1).word"
   ]
  },
  {
   "cell_type": "code",
   "execution_count": 77,
   "metadata": {
    "collapsed": false
   },
   "outputs": [
    {
     "data": {
      "text/plain": [
       "'У Коли нет 2 яблока, а у Пети нет 1 яблоко'"
      ]
     },
     "execution_count": 77,
     "metadata": {},
     "output_type": "execute_result"
    }
   ],
   "source": [
    "\"У Коли нет 2 яблока, а у Пети нет 1 яблоко\""
   ]
  },
  {
   "cell_type": "code",
   "execution_count": 79,
   "metadata": {
    "collapsed": false
   },
   "outputs": [
    {
     "data": {
      "text/plain": [
       "'яблок'"
      ]
     },
     "execution_count": 79,
     "metadata": {},
     "output_type": "execute_result"
    }
   ],
   "source": [
    "morph.parse(\"яблок\")[0].make_agree_with_number(2).word"
   ]
  },
  {
   "cell_type": "code",
   "execution_count": null,
   "metadata": {
    "collapsed": true
   },
   "outputs": [],
   "source": []
  }
 ],
 "metadata": {
  "kernelspec": {
   "display_name": "Python 3",
   "language": "python",
   "name": "python3"
  },
  "language_info": {
   "codemirror_mode": {
    "name": "ipython",
    "version": 3
   },
   "file_extension": ".py",
   "mimetype": "text/x-python",
   "name": "python",
   "nbconvert_exporter": "python",
   "pygments_lexer": "ipython3",
   "version": "3.5.0"
  }
 },
 "nbformat": 4,
 "nbformat_minor": 0
}
